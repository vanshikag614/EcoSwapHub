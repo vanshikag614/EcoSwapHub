{
  "nbformat": 4,
  "nbformat_minor": 0,
  "metadata": {
    "colab": {
      "provenance": []
    },
    "kernelspec": {
      "name": "python3",
      "display_name": "Python 3"
    },
    "language_info": {
      "name": "python"
    }
  },
  "cells": [
    {
      "cell_type": "code",
      "execution_count": null,
      "metadata": {
        "colab": {
          "base_uri": "https://localhost:8080/"
        },
        "id": "HmJQLIzwaFfM",
        "outputId": "8451db7c-cfd7-4d35-e579-e416e5197572"
      },
      "outputs": [
        {
          "output_type": "stream",
          "name": "stdout",
          "text": [
            "Mounted at /content/drive\n"
          ]
        }
      ],
      "source": [
        "from google.colab import drive\n",
        "drive.mount('/content/drive')\n"
      ]
    },
    {
      "cell_type": "code",
      "source": [
        "cd /content/drive/MyDrive/recycling waste"
      ],
      "metadata": {
        "colab": {
          "base_uri": "https://localhost:8080/"
        },
        "id": "o3nr5waiaY3b",
        "outputId": "8697dda7-6af7-43f4-baae-33905db0f275"
      },
      "execution_count": null,
      "outputs": [
        {
          "output_type": "stream",
          "name": "stdout",
          "text": [
            "/content/drive/MyDrive/recycling waste\n"
          ]
        }
      ]
    },
    {
      "cell_type": "code",
      "source": [
        "import tensorflow\n",
        "print(tensorflow.__version__)"
      ],
      "metadata": {
        "colab": {
          "base_uri": "https://localhost:8080/"
        },
        "id": "YrUZVCbFaY8m",
        "outputId": "9e614583-e89d-4cb7-e3ad-ff03005f5433"
      },
      "execution_count": null,
      "outputs": [
        {
          "output_type": "stream",
          "name": "stdout",
          "text": [
            "2.15.0\n"
          ]
        }
      ]
    },
    {
      "cell_type": "code",
      "source": [
        "\n",
        "import cv2,os\n",
        "data_path='/content/drive/MyDrive/recycling waste/'\n",
        "categories=os.listdir(data_path)\n",
        "labels=[i for i in range(len(categories))]\n",
        "\n",
        "label_dict=dict(zip(categories,labels)) #empty dictionary\n",
        "print(label_dict)\n",
        "print(categories)\n",
        "print(labels)"
      ],
      "metadata": {
        "colab": {
          "base_uri": "https://localhost:8080/"
        },
        "id": "VfOWTpUYbE4c",
        "outputId": "c1ab50f4-ff63-4f5a-ce8c-7b79b737cdf9"
      },
      "execution_count": null,
      "outputs": [
        {
          "output_type": "stream",
          "name": "stdout",
          "text": [
            "{'glass': 0, 'light blubs': 1, 'organic': 2, 'clothes': 3, 'batteries': 4, 'paper': 5, 'e-waste': 6, 'plastic': 7, 'metal': 8}\n",
            "['glass', 'light blubs', 'organic', 'clothes', 'batteries', 'paper', 'e-waste', 'plastic', 'metal']\n",
            "[0, 1, 2, 3, 4, 5, 6, 7, 8]\n"
          ]
        }
      ]
    },
    {
      "cell_type": "code",
      "source": [
        "img_size=100\n",
        "data=[]\n",
        "target=[]\n",
        "\n",
        "for category in categories:\n",
        "    folder_path=os.path.join(data_path,category)\n",
        "    img_names=os.listdir(folder_path)\n",
        "\n",
        "    for img_name in img_names:\n",
        "        img_path=os.path.join(folder_path,img_name)\n",
        "        img=cv2.imread(img_path)\n",
        "\n",
        "        try:\n",
        "            resized=cv2.resize(img,(img_size,img_size))\n",
        "            #resizing the image  into 100x100, since we need a fixed common size for all the images in the dataset\n",
        "            data.append(resized)\n",
        "            target.append(label_dict[category])\n",
        "            #appending the image and the label(categorized) into the list (dataset)\n",
        "        except Exception as e:\n",
        "            print('Exception:',e)\n",
        "            #if any exception rasied, the exception will be printed here. And pass t"
      ],
      "metadata": {
        "id": "uSzj8tzRbGp6"
      },
      "execution_count": null,
      "outputs": []
    },
    {
      "cell_type": "code",
      "source": [
        "import numpy as np\n",
        "data=np.array(data)/255.0\n",
        "data=np.reshape(data,(data.shape[0],img_size,img_size,3))\n",
        "target=np.array(target)\n",
        "from keras.utils import to_categorical\n",
        "new_target=to_categorical(target)"
      ],
      "metadata": {
        "id": "MihQUykIbGsS"
      },
      "execution_count": null,
      "outputs": []
    },
    {
      "cell_type": "code",
      "source": [
        "new_target.shape"
      ],
      "metadata": {
        "colab": {
          "base_uri": "https://localhost:8080/"
        },
        "id": "_MJDi7ebbGuz",
        "outputId": "2b43e53a-af37-4574-cf56-7f6456cec6ae"
      },
      "execution_count": null,
      "outputs": [
        {
          "output_type": "execute_result",
          "data": {
            "text/plain": [
              "(1298, 9)"
            ]
          },
          "metadata": {},
          "execution_count": 17
        }
      ]
    },
    {
      "cell_type": "code",
      "source": [
        "data.shape"
      ],
      "metadata": {
        "colab": {
          "base_uri": "https://localhost:8080/"
        },
        "id": "GEuIOIHDbGyX",
        "outputId": "d1f2bbb7-f683-4b9c-86f1-821f7d9f156e"
      },
      "execution_count": null,
      "outputs": [
        {
          "output_type": "execute_result",
          "data": {
            "text/plain": [
              "(1298, 100, 100, 3)"
            ]
          },
          "metadata": {},
          "execution_count": 18
        }
      ]
    },
    {
      "cell_type": "markdown",
      "source": [],
      "metadata": {
        "id": "5v80OvEcRGyi"
      }
    },
    {
      "cell_type": "markdown",
      "source": [],
      "metadata": {
        "id": "RQLH_Ma6RE4_"
      }
    },
    {
      "cell_type": "code",
      "source": [
        "from keras.models import Sequential\n",
        "from keras.layers import Dense,Activation,Flatten,Dropout\n",
        "from keras.layers import Conv2D,MaxPooling2D\n",
        "from keras.callbacks import ModelCheckpoint\n",
        "\n",
        "model=Sequential()\n",
        "\n",
        "model.add(Conv2D(200,(3,3),input_shape=data.shape[1:]))\n",
        "model.add(Activation('relu'))\n",
        "model.add(MaxPooling2D(pool_size=(2,2)))\n",
        "#The first CNN layer followed by Relu and MaxPooling layers\n",
        "\n",
        "model.add(Conv2D(100,(3,3)))\n",
        "model.add(Activation('relu'))\n",
        "model.add(MaxPooling2D(pool_size=(2,2)))\n",
        "#The second convolution layer followed by Relu and MaxPooling layers\n",
        "\n",
        "model.add(Flatten())\n",
        "model.add(Dropout(0.5))\n",
        "#Flatten layer to stack the output convolutions from second convolution layer\n",
        "model.add(Dense(50,activation='relu'))\n",
        "#Dense layer of 50 neurons\n",
        "model.add(Dense(9,activation='softmax'))\n",
        "#The Final layer with 9 outputs for 9 categories\n",
        "\n",
        "model.compile(loss='categorical_crossentropy',optimizer='adam',metrics=['accuracy'])\n"
      ],
      "metadata": {
        "id": "MRf_Q2Ond1r2"
      },
      "execution_count": null,
      "outputs": []
    },
    {
      "cell_type": "code",
      "source": [
        "model.summary()"
      ],
      "metadata": {
        "colab": {
          "base_uri": "https://localhost:8080/"
        },
        "id": "DahJOB_xd1uO",
        "outputId": "4ec7c5d4-1d67-4554-ff7c-badda0a10a96"
      },
      "execution_count": null,
      "outputs": [
        {
          "output_type": "stream",
          "name": "stdout",
          "text": [
            "Model: \"sequential\"\n",
            "_________________________________________________________________\n",
            " Layer (type)                Output Shape              Param #   \n",
            "=================================================================\n",
            " conv2d (Conv2D)             (None, 98, 98, 100)       2800      \n",
            "                                                                 \n",
            " activation (Activation)     (None, 98, 98, 100)       0         \n",
            "                                                                 \n",
            " max_pooling2d (MaxPooling2  (None, 49, 49, 100)       0         \n",
            " D)                                                              \n",
            "                                                                 \n",
            " conv2d_1 (Conv2D)           (None, 47, 47, 100)       90100     \n",
            "                                                                 \n",
            " activation_1 (Activation)   (None, 47, 47, 100)       0         \n",
            "                                                                 \n",
            " max_pooling2d_1 (MaxPoolin  (None, 23, 23, 100)       0         \n",
            " g2D)                                                            \n",
            "                                                                 \n",
            " flatten (Flatten)           (None, 52900)             0         \n",
            "                                                                 \n",
            " dropout (Dropout)           (None, 52900)             0         \n",
            "                                                                 \n",
            " dense (Dense)               (None, 50)                2645050   \n",
            "                                                                 \n",
            " dense_1 (Dense)             (None, 9)                 459       \n",
            "                                                                 \n",
            "=================================================================\n",
            "Total params: 2738409 (10.45 MB)\n",
            "Trainable params: 2738409 (10.45 MB)\n",
            "Non-trainable params: 0 (0.00 Byte)\n",
            "_________________________________________________________________\n"
          ]
        }
      ]
    },
    {
      "cell_type": "code",
      "source": [
        "from sklearn.model_selection import train_test_split\n",
        "train_data,test_data,train_target,test_target=train_test_split(data,new_target,test_size=0.1)"
      ],
      "metadata": {
        "id": "49TMUxigd1wz"
      },
      "execution_count": null,
      "outputs": []
    },
    {
      "cell_type": "code",
      "source": [
        "test_target.shape"
      ],
      "metadata": {
        "colab": {
          "base_uri": "https://localhost:8080/"
        },
        "id": "yYFjcsD6d10M",
        "outputId": "4b998978-7b2d-4b9c-a6e8-59e86b519f63"
      },
      "execution_count": null,
      "outputs": [
        {
          "output_type": "execute_result",
          "data": {
            "text/plain": [
              "(130, 9)"
            ]
          },
          "metadata": {},
          "execution_count": 34
        }
      ]
    },
    {
      "cell_type": "code",
      "source": [
        "#checkpoint = ModelCheckpoint('model-{epoch:03d}.model',monitor='val_loss',verbose=0,save_best_only=True,mode='auto')\n",
        "history=model.fit(train_data,train_target,epochs=50,validation_split=0.2)"
      ],
      "metadata": {
        "colab": {
          "base_uri": "https://localhost:8080/"
        },
        "id": "WjmtFYend161",
        "outputId": "945f910b-0566-4205-ad34-4dd3ab5d74d5"
      },
      "execution_count": null,
      "outputs": [
        {
          "output_type": "stream",
          "name": "stdout",
          "text": [
            "Epoch 1/200\n",
            "30/30 [==============================] - 101s 3s/step - loss: 2.1769 - accuracy: 0.2441 - val_loss: 2.0479 - val_accuracy: 0.2692\n",
            "Epoch 2/200\n",
            "30/30 [==============================] - 90s 3s/step - loss: 2.0384 - accuracy: 0.2655 - val_loss: 2.0277 - val_accuracy: 0.2692\n",
            "Epoch 3/200\n",
            "30/30 [==============================] - 90s 3s/step - loss: 1.9853 - accuracy: 0.2623 - val_loss: 2.0113 - val_accuracy: 0.2735\n",
            "Epoch 4/200\n",
            "30/30 [==============================] - 86s 3s/step - loss: 1.9406 - accuracy: 0.2752 - val_loss: 1.9725 - val_accuracy: 0.2692\n",
            "Epoch 5/200\n",
            "30/30 [==============================] - 87s 3s/step - loss: 1.8634 - accuracy: 0.2901 - val_loss: 2.0352 - val_accuracy: 0.2778\n",
            "Epoch 6/200\n",
            "30/30 [==============================] - 89s 3s/step - loss: 1.8238 - accuracy: 0.3169 - val_loss: 2.0083 - val_accuracy: 0.2521\n",
            "Epoch 7/200\n",
            "30/30 [==============================] - 89s 3s/step - loss: 1.6686 - accuracy: 0.4004 - val_loss: 1.9669 - val_accuracy: 0.2821\n",
            "Epoch 8/200\n",
            "30/30 [==============================] - 85s 3s/step - loss: 1.5420 - accuracy: 0.4561 - val_loss: 1.9816 - val_accuracy: 0.2863\n",
            "Epoch 9/200\n",
            "30/30 [==============================] - 88s 3s/step - loss: 1.4355 - accuracy: 0.5021 - val_loss: 1.9937 - val_accuracy: 0.2991\n",
            "Epoch 10/200\n",
            "30/30 [==============================] - 87s 3s/step - loss: 1.2563 - accuracy: 0.5664 - val_loss: 2.1231 - val_accuracy: 0.2949\n",
            "Epoch 11/200\n",
            "30/30 [==============================] - 88s 3s/step - loss: 1.2051 - accuracy: 0.5846 - val_loss: 2.0900 - val_accuracy: 0.3205\n",
            "Epoch 12/200\n",
            "30/30 [==============================] - 88s 3s/step - loss: 1.1334 - accuracy: 0.5824 - val_loss: 2.0990 - val_accuracy: 0.3675\n",
            "Epoch 13/200\n",
            "30/30 [==============================] - 87s 3s/step - loss: 0.9211 - accuracy: 0.6670 - val_loss: 2.2159 - val_accuracy: 0.3248\n",
            "Epoch 14/200\n",
            "30/30 [==============================] - 89s 3s/step - loss: 0.8308 - accuracy: 0.7109 - val_loss: 2.3135 - val_accuracy: 0.3504\n",
            "Epoch 15/200\n",
            "30/30 [==============================] - 90s 3s/step - loss: 0.8180 - accuracy: 0.7034 - val_loss: 2.1969 - val_accuracy: 0.3376\n",
            "Epoch 16/200\n",
            "30/30 [==============================] - 86s 3s/step - loss: 0.7068 - accuracy: 0.7698 - val_loss: 2.4298 - val_accuracy: 0.3162\n",
            "Epoch 17/200\n",
            "30/30 [==============================] - 86s 3s/step - loss: 0.6482 - accuracy: 0.7730 - val_loss: 2.5333 - val_accuracy: 0.3590\n",
            "Epoch 18/200\n",
            "30/30 [==============================] - 92s 3s/step - loss: 0.5480 - accuracy: 0.8255 - val_loss: 2.5417 - val_accuracy: 0.3761\n",
            "Epoch 19/200\n",
            "30/30 [==============================] - 90s 3s/step - loss: 0.5594 - accuracy: 0.8126 - val_loss: 2.7383 - val_accuracy: 0.3462\n",
            "Epoch 20/200\n",
            "30/30 [==============================] - 92s 3s/step - loss: 0.4686 - accuracy: 0.8330 - val_loss: 2.8553 - val_accuracy: 0.3718\n",
            "Epoch 21/200\n",
            "30/30 [==============================] - 90s 3s/step - loss: 0.4855 - accuracy: 0.8426 - val_loss: 2.8495 - val_accuracy: 0.3333\n",
            "Epoch 22/200\n",
            "30/30 [==============================] - 94s 3s/step - loss: 0.4539 - accuracy: 0.8458 - val_loss: 2.9967 - val_accuracy: 0.3205\n",
            "Epoch 23/200\n",
            "30/30 [==============================] - 95s 3s/step - loss: 0.4512 - accuracy: 0.8373 - val_loss: 2.7778 - val_accuracy: 0.3590\n",
            "Epoch 24/200\n",
            "30/30 [==============================] - 94s 3s/step - loss: 0.3493 - accuracy: 0.8897 - val_loss: 3.1362 - val_accuracy: 0.3462\n",
            "Epoch 25/200\n",
            "30/30 [==============================] - 92s 3s/step - loss: 0.3229 - accuracy: 0.8983 - val_loss: 3.2800 - val_accuracy: 0.3675\n",
            "Epoch 26/200\n",
            "30/30 [==============================] - 93s 3s/step - loss: 0.2977 - accuracy: 0.8983 - val_loss: 3.1462 - val_accuracy: 0.3718\n",
            "Epoch 27/200\n",
            "30/30 [==============================] - 94s 3s/step - loss: 0.3002 - accuracy: 0.8994 - val_loss: 3.5967 - val_accuracy: 0.3547\n",
            "Epoch 28/200\n",
            "30/30 [==============================] - 96s 3s/step - loss: 0.2568 - accuracy: 0.9143 - val_loss: 3.5834 - val_accuracy: 0.3462\n",
            "Epoch 29/200\n",
            "30/30 [==============================] - 95s 3s/step - loss: 0.1958 - accuracy: 0.9411 - val_loss: 3.7227 - val_accuracy: 0.3248\n",
            "Epoch 30/200\n",
            "30/30 [==============================] - 94s 3s/step - loss: 0.2712 - accuracy: 0.9218 - val_loss: 3.5484 - val_accuracy: 0.3590\n",
            "Epoch 31/200\n",
            "30/30 [==============================] - 98s 3s/step - loss: 0.2348 - accuracy: 0.9251 - val_loss: 3.9671 - val_accuracy: 0.3462\n",
            "Epoch 32/200\n",
            "30/30 [==============================] - 95s 3s/step - loss: 0.2115 - accuracy: 0.9358 - val_loss: 3.8402 - val_accuracy: 0.3333\n",
            "Epoch 33/200\n",
            "30/30 [==============================] - 96s 3s/step - loss: 0.1640 - accuracy: 0.9582 - val_loss: 4.2334 - val_accuracy: 0.3419\n",
            "Epoch 34/200\n",
            "30/30 [==============================] - 93s 3s/step - loss: 0.1928 - accuracy: 0.9379 - val_loss: 4.0030 - val_accuracy: 0.3462\n",
            "Epoch 35/200\n",
            "30/30 [==============================] - 96s 3s/step - loss: 0.2095 - accuracy: 0.9293 - val_loss: 4.2139 - val_accuracy: 0.3291\n",
            "Epoch 36/200\n",
            "30/30 [==============================] - 93s 3s/step - loss: 0.1787 - accuracy: 0.9422 - val_loss: 4.4714 - val_accuracy: 0.3419\n",
            "Epoch 37/200\n",
            "30/30 [==============================] - 92s 3s/step - loss: 0.1544 - accuracy: 0.9507 - val_loss: 4.5096 - val_accuracy: 0.3846\n",
            "Epoch 38/200\n",
            "30/30 [==============================] - 93s 3s/step - loss: 0.1960 - accuracy: 0.9390 - val_loss: 4.2575 - val_accuracy: 0.3504\n",
            "Epoch 39/200\n",
            "30/30 [==============================] - 98s 3s/step - loss: 0.1310 - accuracy: 0.9582 - val_loss: 4.2657 - val_accuracy: 0.3889\n",
            "Epoch 40/200\n",
            "30/30 [==============================] - 89s 3s/step - loss: 0.1206 - accuracy: 0.9700 - val_loss: 4.2843 - val_accuracy: 0.3632\n",
            "Epoch 41/200\n",
            "30/30 [==============================] - 89s 3s/step - loss: 0.1281 - accuracy: 0.9679 - val_loss: 4.2673 - val_accuracy: 0.3590\n",
            "Epoch 42/200\n",
            "30/30 [==============================] - 81s 3s/step - loss: 0.1188 - accuracy: 0.9572 - val_loss: 4.3952 - val_accuracy: 0.3932\n",
            "Epoch 43/200\n",
            "30/30 [==============================] - 83s 3s/step - loss: 0.1503 - accuracy: 0.9604 - val_loss: 4.4070 - val_accuracy: 0.3419\n",
            "Epoch 44/200\n",
            "30/30 [==============================] - 95s 3s/step - loss: 0.1550 - accuracy: 0.9615 - val_loss: 4.4378 - val_accuracy: 0.3547\n",
            "Epoch 45/200\n",
            "30/30 [==============================] - 84s 3s/step - loss: 0.1782 - accuracy: 0.9518 - val_loss: 4.3033 - val_accuracy: 0.3718\n",
            "Epoch 46/200\n",
            "30/30 [==============================] - 96s 3s/step - loss: 0.1120 - accuracy: 0.9625 - val_loss: 4.7710 - val_accuracy: 0.4017\n",
            "Epoch 47/200\n",
            "30/30 [==============================] - 96s 3s/step - loss: 0.1220 - accuracy: 0.9615 - val_loss: 4.2794 - val_accuracy: 0.3547\n",
            "Epoch 48/200\n",
            "30/30 [==============================] - 96s 3s/step - loss: 0.1243 - accuracy: 0.9615 - val_loss: 4.5669 - val_accuracy: 0.3803\n",
            "Epoch 49/200\n",
            "30/30 [==============================] - 96s 3s/step - loss: 0.1546 - accuracy: 0.9497 - val_loss: 4.6767 - val_accuracy: 0.3632\n",
            "Epoch 50/200\n",
            "30/30 [==============================] - 92s 3s/step - loss: 0.0974 - accuracy: 0.9775 - val_loss: 4.6929 - val_accuracy: 0.3846\n",
            "Epoch 51/200\n",
            "30/30 [==============================] - 90s 3s/step - loss: 0.1098 - accuracy: 0.9657 - val_loss: 4.6032 - val_accuracy: 0.3718\n",
            "Epoch 52/200\n",
            "30/30 [==============================] - 98s 3s/step - loss: 0.1576 - accuracy: 0.9615 - val_loss: 4.7671 - val_accuracy: 0.3718\n",
            "Epoch 53/200\n",
            "30/30 [==============================] - 94s 3s/step - loss: 0.1140 - accuracy: 0.9604 - val_loss: 4.7489 - val_accuracy: 0.3291\n",
            "Epoch 54/200\n",
            "30/30 [==============================] - 98s 3s/step - loss: 0.1136 - accuracy: 0.9679 - val_loss: 4.7250 - val_accuracy: 0.3803\n",
            "Epoch 55/200\n",
            "30/30 [==============================] - 93s 3s/step - loss: 0.1112 - accuracy: 0.9657 - val_loss: 4.6007 - val_accuracy: 0.3291\n",
            "Epoch 56/200\n",
            "30/30 [==============================] - 95s 3s/step - loss: 0.1234 - accuracy: 0.9615 - val_loss: 4.7682 - val_accuracy: 0.3632\n",
            "Epoch 57/200\n",
            "30/30 [==============================] - 95s 3s/step - loss: 0.0859 - accuracy: 0.9722 - val_loss: 4.6886 - val_accuracy: 0.3932\n",
            "Epoch 58/200\n",
            "30/30 [==============================] - 92s 3s/step - loss: 0.0700 - accuracy: 0.9786 - val_loss: 5.0445 - val_accuracy: 0.3419\n",
            "Epoch 59/200\n",
            "30/30 [==============================] - 98s 3s/step - loss: 0.0665 - accuracy: 0.9786 - val_loss: 4.7817 - val_accuracy: 0.3462\n",
            "Epoch 60/200\n",
            "30/30 [==============================] - 95s 3s/step - loss: 0.0792 - accuracy: 0.9818 - val_loss: 4.7979 - val_accuracy: 0.3675\n",
            "Epoch 61/200\n",
            "30/30 [==============================] - 90s 3s/step - loss: 0.0941 - accuracy: 0.9775 - val_loss: 4.6548 - val_accuracy: 0.3718\n",
            "Epoch 62/200\n",
            "30/30 [==============================] - 96s 3s/step - loss: 0.0639 - accuracy: 0.9797 - val_loss: 4.8454 - val_accuracy: 0.3761\n",
            "Epoch 63/200\n",
            "30/30 [==============================] - 95s 3s/step - loss: 0.0808 - accuracy: 0.9679 - val_loss: 4.8871 - val_accuracy: 0.3803\n",
            "Epoch 64/200\n",
            "30/30 [==============================] - 99s 3s/step - loss: 0.0649 - accuracy: 0.9839 - val_loss: 4.8581 - val_accuracy: 0.3504\n",
            "Epoch 65/200\n",
            "30/30 [==============================] - 87s 3s/step - loss: 0.0559 - accuracy: 0.9818 - val_loss: 5.0978 - val_accuracy: 0.3419\n",
            "Epoch 66/200\n",
            "30/30 [==============================] - 90s 3s/step - loss: 0.0755 - accuracy: 0.9829 - val_loss: 5.5517 - val_accuracy: 0.4188\n",
            "Epoch 67/200\n",
            "30/30 [==============================] - 84s 3s/step - loss: 0.0876 - accuracy: 0.9700 - val_loss: 4.9841 - val_accuracy: 0.3547\n",
            "Epoch 68/200\n",
            "30/30 [==============================] - 92s 3s/step - loss: 0.0533 - accuracy: 0.9850 - val_loss: 5.2191 - val_accuracy: 0.3675\n",
            "Epoch 69/200\n",
            "30/30 [==============================] - 94s 3s/step - loss: 0.0889 - accuracy: 0.9732 - val_loss: 5.1255 - val_accuracy: 0.3248\n",
            "Epoch 70/200\n",
            "30/30 [==============================] - 96s 3s/step - loss: 0.0624 - accuracy: 0.9754 - val_loss: 5.0309 - val_accuracy: 0.3675\n",
            "Epoch 71/200\n",
            "30/30 [==============================] - 97s 3s/step - loss: 0.0575 - accuracy: 0.9797 - val_loss: 5.4477 - val_accuracy: 0.3376\n",
            "Epoch 72/200\n",
            "30/30 [==============================] - 95s 3s/step - loss: 0.0761 - accuracy: 0.9775 - val_loss: 5.6837 - val_accuracy: 0.3462\n",
            "Epoch 73/200\n",
            "30/30 [==============================] - 87s 3s/step - loss: 0.0528 - accuracy: 0.9797 - val_loss: 5.3008 - val_accuracy: 0.3547\n",
            "Epoch 74/200\n",
            "30/30 [==============================] - 85s 3s/step - loss: 0.0463 - accuracy: 0.9872 - val_loss: 6.1228 - val_accuracy: 0.3889\n",
            "Epoch 75/200\n",
            "30/30 [==============================] - 90s 3s/step - loss: 0.0477 - accuracy: 0.9839 - val_loss: 5.4781 - val_accuracy: 0.3632\n",
            "Epoch 76/200\n",
            "30/30 [==============================] - 99s 3s/step - loss: 0.1214 - accuracy: 0.9690 - val_loss: 5.0701 - val_accuracy: 0.3462\n",
            "Epoch 77/200\n",
            "30/30 [==============================] - 96s 3s/step - loss: 0.1111 - accuracy: 0.9711 - val_loss: 5.4092 - val_accuracy: 0.3248\n",
            "Epoch 78/200\n",
            "30/30 [==============================] - 94s 3s/step - loss: 0.0500 - accuracy: 0.9839 - val_loss: 5.3948 - val_accuracy: 0.3590\n",
            "Epoch 79/200\n",
            "30/30 [==============================] - 95s 3s/step - loss: 0.0326 - accuracy: 0.9872 - val_loss: 6.1412 - val_accuracy: 0.3205\n",
            "Epoch 80/200\n",
            "30/30 [==============================] - 96s 3s/step - loss: 0.0743 - accuracy: 0.9722 - val_loss: 5.5619 - val_accuracy: 0.3419\n",
            "Epoch 81/200\n",
            "30/30 [==============================] - 98s 3s/step - loss: 0.0480 - accuracy: 0.9829 - val_loss: 5.7436 - val_accuracy: 0.3590\n",
            "Epoch 82/200\n",
            "30/30 [==============================] - 96s 3s/step - loss: 0.0765 - accuracy: 0.9861 - val_loss: 5.5637 - val_accuracy: 0.3590\n",
            "Epoch 83/200\n",
            "30/30 [==============================] - 92s 3s/step - loss: 0.0628 - accuracy: 0.9807 - val_loss: 5.6815 - val_accuracy: 0.3632\n",
            "Epoch 84/200\n",
            "30/30 [==============================] - 94s 3s/step - loss: 0.1186 - accuracy: 0.9647 - val_loss: 5.9649 - val_accuracy: 0.3419\n",
            "Epoch 85/200\n",
            "30/30 [==============================] - 96s 3s/step - loss: 0.0520 - accuracy: 0.9872 - val_loss: 5.7639 - val_accuracy: 0.3632\n",
            "Epoch 86/200\n",
            "30/30 [==============================] - 98s 3s/step - loss: 0.0409 - accuracy: 0.9850 - val_loss: 5.8148 - val_accuracy: 0.3761\n",
            "Epoch 87/200\n",
            "30/30 [==============================] - 92s 3s/step - loss: 0.0418 - accuracy: 0.9893 - val_loss: 5.7080 - val_accuracy: 0.3846\n",
            "Epoch 88/200\n",
            "30/30 [==============================] - 92s 3s/step - loss: 0.0642 - accuracy: 0.9797 - val_loss: 5.4655 - val_accuracy: 0.3462\n",
            "Epoch 89/200\n",
            "30/30 [==============================] - 94s 3s/step - loss: 0.2406 - accuracy: 0.9336 - val_loss: 5.6673 - val_accuracy: 0.3376\n",
            "Epoch 90/200\n",
            "30/30 [==============================] - 96s 3s/step - loss: 0.1094 - accuracy: 0.9615 - val_loss: 5.6658 - val_accuracy: 0.3333\n",
            "Epoch 91/200\n",
            "30/30 [==============================] - 93s 3s/step - loss: 0.0955 - accuracy: 0.9764 - val_loss: 5.3838 - val_accuracy: 0.3718\n",
            "Epoch 92/200\n",
            "30/30 [==============================] - 90s 3s/step - loss: 0.0580 - accuracy: 0.9764 - val_loss: 5.5676 - val_accuracy: 0.3462\n",
            "Epoch 93/200\n",
            "30/30 [==============================] - 97s 3s/step - loss: 0.0550 - accuracy: 0.9829 - val_loss: 5.3039 - val_accuracy: 0.3889\n",
            "Epoch 94/200\n",
            "30/30 [==============================] - 95s 3s/step - loss: 0.0514 - accuracy: 0.9797 - val_loss: 5.1540 - val_accuracy: 0.3675\n",
            "Epoch 95/200\n",
            "30/30 [==============================] - 96s 3s/step - loss: 0.0364 - accuracy: 0.9861 - val_loss: 5.8506 - val_accuracy: 0.3846\n",
            "Epoch 96/200\n",
            "30/30 [==============================] - 91s 3s/step - loss: 0.0610 - accuracy: 0.9754 - val_loss: 5.0792 - val_accuracy: 0.3547\n",
            "Epoch 97/200\n",
            "30/30 [==============================] - 97s 3s/step - loss: 0.0308 - accuracy: 0.9936 - val_loss: 5.6552 - val_accuracy: 0.3718\n",
            "Epoch 98/200\n",
            "30/30 [==============================] - 92s 3s/step - loss: 0.0377 - accuracy: 0.9872 - val_loss: 5.7258 - val_accuracy: 0.3974\n",
            "Epoch 99/200\n",
            "30/30 [==============================] - 97s 3s/step - loss: 0.0526 - accuracy: 0.9839 - val_loss: 5.4545 - val_accuracy: 0.3846\n",
            "Epoch 100/200\n",
            "30/30 [==============================] - 95s 3s/step - loss: 0.0286 - accuracy: 0.9936 - val_loss: 6.1231 - val_accuracy: 0.3974\n",
            "Epoch 101/200\n",
            "30/30 [==============================] - 92s 3s/step - loss: 0.0338 - accuracy: 0.9936 - val_loss: 5.6675 - val_accuracy: 0.3846\n",
            "Epoch 102/200\n",
            "30/30 [==============================] - 88s 3s/step - loss: 0.0445 - accuracy: 0.9829 - val_loss: 6.0821 - val_accuracy: 0.3504\n",
            "Epoch 103/200\n",
            "30/30 [==============================] - 96s 3s/step - loss: 0.0713 - accuracy: 0.9764 - val_loss: 5.3511 - val_accuracy: 0.3889\n",
            "Epoch 104/200\n",
            "30/30 [==============================] - 85s 3s/step - loss: 0.0288 - accuracy: 0.9914 - val_loss: 5.7691 - val_accuracy: 0.4017\n",
            "Epoch 105/200\n",
            "30/30 [==============================] - 90s 3s/step - loss: 0.0339 - accuracy: 0.9882 - val_loss: 5.3536 - val_accuracy: 0.3590\n",
            "Epoch 106/200\n",
            "30/30 [==============================] - 89s 3s/step - loss: 0.0493 - accuracy: 0.9861 - val_loss: 5.5442 - val_accuracy: 0.3547\n",
            "Epoch 107/200\n",
            "30/30 [==============================] - 89s 3s/step - loss: 0.0647 - accuracy: 0.9818 - val_loss: 5.6727 - val_accuracy: 0.3803\n",
            "Epoch 108/200\n",
            "30/30 [==============================] - 89s 3s/step - loss: 0.0471 - accuracy: 0.9839 - val_loss: 5.7670 - val_accuracy: 0.3675\n",
            "Epoch 109/200\n",
            "30/30 [==============================] - 84s 3s/step - loss: 0.0421 - accuracy: 0.9839 - val_loss: 5.6922 - val_accuracy: 0.3846\n",
            "Epoch 110/200\n",
            "30/30 [==============================] - 82s 3s/step - loss: 0.0280 - accuracy: 0.9904 - val_loss: 5.8749 - val_accuracy: 0.3761\n",
            "Epoch 111/200\n",
            "30/30 [==============================] - 88s 3s/step - loss: 0.0142 - accuracy: 0.9968 - val_loss: 5.9294 - val_accuracy: 0.4145\n",
            "Epoch 112/200\n",
            "30/30 [==============================] - 89s 3s/step - loss: 0.0438 - accuracy: 0.9893 - val_loss: 5.9770 - val_accuracy: 0.4017\n",
            "Epoch 113/200\n",
            "30/30 [==============================] - 89s 3s/step - loss: 0.0812 - accuracy: 0.9904 - val_loss: 6.0247 - val_accuracy: 0.3504\n",
            "Epoch 114/200\n",
            "30/30 [==============================] - 87s 3s/step - loss: 0.0628 - accuracy: 0.9839 - val_loss: 5.3281 - val_accuracy: 0.4060\n",
            "Epoch 115/200\n",
            "30/30 [==============================] - 91s 3s/step - loss: 0.0424 - accuracy: 0.9872 - val_loss: 5.4341 - val_accuracy: 0.3974\n",
            "Epoch 116/200\n",
            "30/30 [==============================] - 85s 3s/step - loss: 0.0376 - accuracy: 0.9850 - val_loss: 5.8031 - val_accuracy: 0.3846\n",
            "Epoch 117/200\n",
            "30/30 [==============================] - 88s 3s/step - loss: 0.0386 - accuracy: 0.9872 - val_loss: 6.1254 - val_accuracy: 0.3547\n",
            "Epoch 118/200\n",
            "30/30 [==============================] - 92s 3s/step - loss: 0.0430 - accuracy: 0.9882 - val_loss: 5.5892 - val_accuracy: 0.3889\n",
            "Epoch 119/200\n",
            "30/30 [==============================] - 84s 3s/step - loss: 0.0609 - accuracy: 0.9850 - val_loss: 6.4857 - val_accuracy: 0.3974\n",
            "Epoch 120/200\n",
            "30/30 [==============================] - 90s 3s/step - loss: 0.0695 - accuracy: 0.9839 - val_loss: 5.0947 - val_accuracy: 0.3932\n",
            "Epoch 121/200\n",
            "30/30 [==============================] - 86s 3s/step - loss: 0.0681 - accuracy: 0.9839 - val_loss: 5.5734 - val_accuracy: 0.4188\n",
            "Epoch 122/200\n",
            "30/30 [==============================] - 95s 3s/step - loss: 0.0323 - accuracy: 0.9882 - val_loss: 5.2919 - val_accuracy: 0.4145\n",
            "Epoch 123/200\n",
            "30/30 [==============================] - 84s 3s/step - loss: 0.0176 - accuracy: 0.9979 - val_loss: 5.5097 - val_accuracy: 0.4103\n",
            "Epoch 124/200\n",
            "30/30 [==============================] - 95s 3s/step - loss: 0.0262 - accuracy: 0.9925 - val_loss: 5.5546 - val_accuracy: 0.3846\n",
            "Epoch 125/200\n",
            "30/30 [==============================] - 96s 3s/step - loss: 0.0223 - accuracy: 0.9936 - val_loss: 5.8538 - val_accuracy: 0.4017\n",
            "Epoch 126/200\n",
            "30/30 [==============================] - 96s 3s/step - loss: 0.0340 - accuracy: 0.9904 - val_loss: 5.5359 - val_accuracy: 0.4017\n",
            "Epoch 127/200\n",
            "30/30 [==============================] - 96s 3s/step - loss: 0.0173 - accuracy: 0.9968 - val_loss: 5.5692 - val_accuracy: 0.4103\n",
            "Epoch 128/200\n",
            "30/30 [==============================] - 96s 3s/step - loss: 0.0302 - accuracy: 0.9882 - val_loss: 5.5257 - val_accuracy: 0.4188\n",
            "Epoch 129/200\n",
            "30/30 [==============================] - 97s 3s/step - loss: 0.0163 - accuracy: 0.9936 - val_loss: 6.3692 - val_accuracy: 0.3889\n",
            "Epoch 130/200\n",
            "30/30 [==============================] - 83s 3s/step - loss: 0.0401 - accuracy: 0.9872 - val_loss: 6.3266 - val_accuracy: 0.3889\n",
            "Epoch 131/200\n",
            "30/30 [==============================] - 86s 3s/step - loss: 0.0248 - accuracy: 0.9925 - val_loss: 5.7396 - val_accuracy: 0.3974\n",
            "Epoch 132/200\n",
            "30/30 [==============================] - 87s 3s/step - loss: 0.0625 - accuracy: 0.9850 - val_loss: 5.6370 - val_accuracy: 0.4103\n",
            "Epoch 133/200\n",
            "30/30 [==============================] - 94s 3s/step - loss: 0.0655 - accuracy: 0.9829 - val_loss: 5.2541 - val_accuracy: 0.3718\n",
            "Epoch 134/200\n",
            "30/30 [==============================] - 96s 3s/step - loss: 0.0427 - accuracy: 0.9914 - val_loss: 5.7197 - val_accuracy: 0.3504\n",
            "Epoch 135/200\n",
            "30/30 [==============================] - 96s 3s/step - loss: 0.0353 - accuracy: 0.9904 - val_loss: 5.4429 - val_accuracy: 0.4017\n",
            "Epoch 136/200\n",
            "30/30 [==============================] - 91s 3s/step - loss: 0.0126 - accuracy: 0.9979 - val_loss: 6.0121 - val_accuracy: 0.3932\n",
            "Epoch 137/200\n",
            "30/30 [==============================] - 93s 3s/step - loss: 0.0157 - accuracy: 0.9957 - val_loss: 5.6759 - val_accuracy: 0.3761\n",
            "Epoch 138/200\n",
            "30/30 [==============================] - 94s 3s/step - loss: 0.0275 - accuracy: 0.9957 - val_loss: 5.9427 - val_accuracy: 0.3932\n",
            "Epoch 139/200\n",
            "30/30 [==============================] - 93s 3s/step - loss: 0.0231 - accuracy: 0.9925 - val_loss: 5.8894 - val_accuracy: 0.3974\n",
            "Epoch 140/200\n",
            "30/30 [==============================] - 97s 3s/step - loss: 0.0100 - accuracy: 0.9979 - val_loss: 6.2086 - val_accuracy: 0.4017\n",
            "Epoch 141/200\n",
            "30/30 [==============================] - 94s 3s/step - loss: 0.0202 - accuracy: 0.9957 - val_loss: 6.0972 - val_accuracy: 0.3974\n",
            "Epoch 142/200\n",
            "30/30 [==============================] - 98s 3s/step - loss: 0.0220 - accuracy: 0.9957 - val_loss: 5.9264 - val_accuracy: 0.3761\n",
            "Epoch 143/200\n",
            "30/30 [==============================] - 94s 3s/step - loss: 0.0155 - accuracy: 0.9968 - val_loss: 6.5316 - val_accuracy: 0.3761\n",
            "Epoch 144/200\n",
            "30/30 [==============================] - 97s 3s/step - loss: 0.0269 - accuracy: 0.9936 - val_loss: 6.0605 - val_accuracy: 0.4145\n",
            "Epoch 145/200\n",
            "30/30 [==============================] - 96s 3s/step - loss: 0.0065 - accuracy: 0.9989 - val_loss: 6.6559 - val_accuracy: 0.3889\n",
            "Epoch 146/200\n",
            "30/30 [==============================] - 96s 3s/step - loss: 0.0146 - accuracy: 0.9946 - val_loss: 6.4728 - val_accuracy: 0.3889\n",
            "Epoch 147/200\n",
            "30/30 [==============================] - 96s 3s/step - loss: 0.0189 - accuracy: 0.9946 - val_loss: 5.8579 - val_accuracy: 0.3846\n",
            "Epoch 148/200\n",
            "30/30 [==============================] - 97s 3s/step - loss: 0.0197 - accuracy: 0.9936 - val_loss: 6.5918 - val_accuracy: 0.3889\n",
            "Epoch 149/200\n",
            "30/30 [==============================] - 94s 3s/step - loss: 0.0173 - accuracy: 0.9936 - val_loss: 6.7163 - val_accuracy: 0.3846\n",
            "Epoch 150/200\n",
            "30/30 [==============================] - 95s 3s/step - loss: 0.0129 - accuracy: 0.9957 - val_loss: 6.5952 - val_accuracy: 0.4060\n",
            "Epoch 151/200\n",
            "30/30 [==============================] - 89s 3s/step - loss: 0.0062 - accuracy: 0.9989 - val_loss: 6.7518 - val_accuracy: 0.4274\n",
            "Epoch 152/200\n",
            "30/30 [==============================] - 89s 3s/step - loss: 0.0036 - accuracy: 1.0000 - val_loss: 7.0556 - val_accuracy: 0.4017\n",
            "Epoch 153/200\n",
            "30/30 [==============================] - 85s 3s/step - loss: 0.0342 - accuracy: 0.9904 - val_loss: 6.5734 - val_accuracy: 0.3675\n",
            "Epoch 154/200\n",
            "30/30 [==============================] - 88s 3s/step - loss: 0.0348 - accuracy: 0.9872 - val_loss: 6.3023 - val_accuracy: 0.3718\n",
            "Epoch 155/200\n",
            "30/30 [==============================] - 87s 3s/step - loss: 0.1758 - accuracy: 0.9475 - val_loss: 7.4598 - val_accuracy: 0.3462\n",
            "Epoch 156/200\n",
            "30/30 [==============================] - 94s 3s/step - loss: 0.0604 - accuracy: 0.9861 - val_loss: 6.0586 - val_accuracy: 0.3504\n",
            "Epoch 157/200\n",
            "30/30 [==============================] - 95s 3s/step - loss: 0.0661 - accuracy: 0.9839 - val_loss: 5.5308 - val_accuracy: 0.3846\n",
            "Epoch 158/200\n",
            "30/30 [==============================] - 93s 3s/step - loss: 0.0453 - accuracy: 0.9861 - val_loss: 6.1696 - val_accuracy: 0.3462\n",
            "Epoch 159/200\n",
            "30/30 [==============================] - 98s 3s/step - loss: 0.0297 - accuracy: 0.9914 - val_loss: 6.1073 - val_accuracy: 0.3803\n",
            "Epoch 160/200\n",
            "30/30 [==============================] - 92s 3s/step - loss: 0.0212 - accuracy: 0.9946 - val_loss: 6.1341 - val_accuracy: 0.3590\n",
            "Epoch 161/200\n",
            "30/30 [==============================] - 89s 3s/step - loss: 0.0242 - accuracy: 0.9936 - val_loss: 6.2233 - val_accuracy: 0.3718\n",
            "Epoch 162/200\n",
            "30/30 [==============================] - 92s 3s/step - loss: 0.0234 - accuracy: 0.9957 - val_loss: 6.5152 - val_accuracy: 0.3333\n",
            "Epoch 163/200\n",
            "30/30 [==============================] - 98s 3s/step - loss: 0.0156 - accuracy: 0.9946 - val_loss: 6.2240 - val_accuracy: 0.4060\n",
            "Epoch 164/200\n",
            "30/30 [==============================] - 96s 3s/step - loss: 0.0261 - accuracy: 0.9957 - val_loss: 6.1664 - val_accuracy: 0.4103\n",
            "Epoch 165/200\n",
            "30/30 [==============================] - 97s 3s/step - loss: 0.0242 - accuracy: 0.9957 - val_loss: 6.4154 - val_accuracy: 0.4060\n",
            "Epoch 166/200\n",
            "30/30 [==============================] - 95s 3s/step - loss: 0.0346 - accuracy: 0.9925 - val_loss: 5.5324 - val_accuracy: 0.3846\n",
            "Epoch 167/200\n",
            "30/30 [==============================] - 98s 3s/step - loss: 0.0276 - accuracy: 0.9946 - val_loss: 6.3063 - val_accuracy: 0.4188\n",
            "Epoch 168/200\n",
            "30/30 [==============================] - 94s 3s/step - loss: 0.0091 - accuracy: 0.9968 - val_loss: 6.0597 - val_accuracy: 0.3803\n",
            "Epoch 169/200\n",
            "30/30 [==============================] - 98s 3s/step - loss: 0.0107 - accuracy: 0.9936 - val_loss: 6.4082 - val_accuracy: 0.3974\n",
            "Epoch 170/200\n",
            "30/30 [==============================] - 94s 3s/step - loss: 0.0217 - accuracy: 0.9946 - val_loss: 5.9224 - val_accuracy: 0.4017\n",
            "Epoch 171/200\n",
            "30/30 [==============================] - 95s 3s/step - loss: 0.0137 - accuracy: 0.9957 - val_loss: 7.4594 - val_accuracy: 0.4188\n",
            "Epoch 172/200\n",
            "30/30 [==============================] - 95s 3s/step - loss: 0.0192 - accuracy: 0.9957 - val_loss: 6.5876 - val_accuracy: 0.4060\n",
            "Epoch 173/200\n",
            "30/30 [==============================] - 96s 3s/step - loss: 0.0130 - accuracy: 0.9979 - val_loss: 6.4125 - val_accuracy: 0.4017\n",
            "Epoch 174/200\n",
            "30/30 [==============================] - 95s 3s/step - loss: 0.0265 - accuracy: 0.9914 - val_loss: 7.0976 - val_accuracy: 0.3547\n",
            "Epoch 175/200\n",
            "30/30 [==============================] - 96s 3s/step - loss: 0.0246 - accuracy: 0.9957 - val_loss: 6.6557 - val_accuracy: 0.3846\n",
            "Epoch 176/200\n",
            "30/30 [==============================] - 96s 3s/step - loss: 0.0178 - accuracy: 0.9946 - val_loss: 6.1467 - val_accuracy: 0.3932\n",
            "Epoch 177/200\n",
            "30/30 [==============================] - 96s 3s/step - loss: 0.0545 - accuracy: 0.9882 - val_loss: 7.1989 - val_accuracy: 0.4231\n",
            "Epoch 178/200\n",
            "30/30 [==============================] - 97s 3s/step - loss: 0.0231 - accuracy: 0.9882 - val_loss: 6.3002 - val_accuracy: 0.3761\n",
            "Epoch 179/200\n",
            "30/30 [==============================] - 94s 3s/step - loss: 0.0212 - accuracy: 0.9882 - val_loss: 6.8724 - val_accuracy: 0.3632\n",
            "Epoch 180/200\n",
            "30/30 [==============================] - 97s 3s/step - loss: 0.0176 - accuracy: 0.9925 - val_loss: 6.6748 - val_accuracy: 0.4188\n",
            "Epoch 181/200\n",
            "30/30 [==============================] - 92s 3s/step - loss: 0.0173 - accuracy: 0.9946 - val_loss: 6.6464 - val_accuracy: 0.3932\n",
            "Epoch 182/200\n",
            "30/30 [==============================] - 97s 3s/step - loss: 0.0128 - accuracy: 0.9979 - val_loss: 6.4345 - val_accuracy: 0.3974\n",
            "Epoch 183/200\n",
            "30/30 [==============================] - 93s 3s/step - loss: 0.0241 - accuracy: 0.9925 - val_loss: 6.4709 - val_accuracy: 0.4359\n",
            "Epoch 184/200\n",
            "30/30 [==============================] - 94s 3s/step - loss: 0.0381 - accuracy: 0.9893 - val_loss: 5.8133 - val_accuracy: 0.3718\n",
            "Epoch 185/200\n",
            "30/30 [==============================] - 90s 3s/step - loss: 0.0150 - accuracy: 0.9957 - val_loss: 6.6651 - val_accuracy: 0.4274\n",
            "Epoch 186/200\n",
            "30/30 [==============================] - 97s 3s/step - loss: 0.0269 - accuracy: 0.9946 - val_loss: 7.4085 - val_accuracy: 0.4103\n",
            "Epoch 187/200\n",
            "30/30 [==============================] - 91s 3s/step - loss: 0.0429 - accuracy: 0.9893 - val_loss: 6.4199 - val_accuracy: 0.4017\n",
            "Epoch 188/200\n",
            "30/30 [==============================] - 96s 3s/step - loss: 0.0217 - accuracy: 0.9914 - val_loss: 6.7294 - val_accuracy: 0.3590\n",
            "Epoch 189/200\n",
            "30/30 [==============================] - 92s 3s/step - loss: 0.0139 - accuracy: 0.9957 - val_loss: 6.9431 - val_accuracy: 0.3803\n",
            "Epoch 190/200\n",
            "30/30 [==============================] - 97s 3s/step - loss: 0.0069 - accuracy: 0.9979 - val_loss: 7.0772 - val_accuracy: 0.4060\n",
            "Epoch 191/200\n",
            "30/30 [==============================] - 92s 3s/step - loss: 0.0248 - accuracy: 0.9936 - val_loss: 6.0101 - val_accuracy: 0.3932\n",
            "Epoch 192/200\n",
            "30/30 [==============================] - 93s 3s/step - loss: 0.0204 - accuracy: 0.9925 - val_loss: 6.8137 - val_accuracy: 0.4274\n",
            "Epoch 193/200\n",
            "30/30 [==============================] - 96s 3s/step - loss: 0.0175 - accuracy: 0.9946 - val_loss: 6.3017 - val_accuracy: 0.3846\n",
            "Epoch 194/200\n",
            "30/30 [==============================] - 89s 3s/step - loss: 0.0239 - accuracy: 0.9946 - val_loss: 6.2441 - val_accuracy: 0.3761\n",
            "Epoch 195/200\n",
            "30/30 [==============================] - 94s 3s/step - loss: 0.0430 - accuracy: 0.9850 - val_loss: 5.8990 - val_accuracy: 0.3803\n",
            "Epoch 196/200\n",
            "30/30 [==============================] - 93s 3s/step - loss: 0.1238 - accuracy: 0.9593 - val_loss: 5.3443 - val_accuracy: 0.3632\n",
            "Epoch 197/200\n",
            "30/30 [==============================] - 95s 3s/step - loss: 0.0482 - accuracy: 0.9882 - val_loss: 5.8453 - val_accuracy: 0.3974\n",
            "Epoch 198/200\n",
            "30/30 [==============================] - 94s 3s/step - loss: 0.0601 - accuracy: 0.9775 - val_loss: 6.2799 - val_accuracy: 0.4060\n",
            "Epoch 199/200\n",
            "30/30 [==============================] - 89s 3s/step - loss: 0.0334 - accuracy: 0.9925 - val_loss: 6.1085 - val_accuracy: 0.4145\n",
            "Epoch 200/200\n",
            "30/30 [==============================] - 90s 3s/step - loss: 0.0314 - accuracy: 0.9925 - val_loss: 5.8769 - val_accuracy: 0.3932\n"
          ]
        }
      ]
    },
    {
      "cell_type": "code",
      "source": [
        "model.save('new_model.h5')"
      ],
      "metadata": {
        "colab": {
          "base_uri": "https://localhost:8080/"
        },
        "id": "FtXkjSErfyrP",
        "outputId": "43c56481-4745-4910-ea37-f748df517b35"
      },
      "execution_count": null,
      "outputs": [
        {
          "output_type": "stream",
          "name": "stderr",
          "text": [
            "/usr/local/lib/python3.10/dist-packages/keras/src/engine/training.py:3103: UserWarning: You are saving your model as an HDF5 file via `model.save()`. This file format is considered legacy. We recommend using instead the native Keras format, e.g. `model.save('my_model.keras')`.\n",
            "  saving_api.save_model(\n"
          ]
        }
      ]
    },
    {
      "cell_type": "code",
      "source": [
        "from tensorflow.keras.preprocessing import image\n",
        "output_class = [\"batteries\", \"clothes\", \"e-waste\", \"glass\", \"light blubs\", \"metal\", \"organic\", \"paper\", \"plastic\"]\n",
        "def waste_prediction(new_image):\n",
        "  test_image = image.load_img(new_image, target_size = (100,100))\n",
        "  plt.axis(\"off\")\n",
        "  plt.imshow(test_image)\n",
        "  plt.show()\n",
        "\n",
        "  test_image = image.img_to_array(test_image) / 255\n",
        "  test_image = np.expand_dims(test_image, axis=0)\n",
        "\n",
        "  predicted_array = model.predict(test_image)\n",
        "  predicted_value = output_class[np.argmax(predicted_array)]\n",
        "  predicted_accuracy = round(np.max(predicted_array) * 100, 2)\n",
        "\n",
        "  print(\"Your waste material is \", predicted_value, \" with \", predicted_accuracy, \" % accuracy\")"
      ],
      "metadata": {
        "id": "NrZSz9ImfyyL"
      },
      "execution_count": null,
      "outputs": []
    },
    {
      "cell_type": "code",
      "source": [],
      "metadata": {
        "id": "PfUI8W9ffy1k"
      },
      "execution_count": null,
      "outputs": []
    },
    {
      "cell_type": "markdown",
      "source": [],
      "metadata": {
        "id": "rjlw5Cxb1Nm9"
      }
    }
  ]
}